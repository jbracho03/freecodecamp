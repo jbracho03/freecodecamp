{
 "cells": [
  {
   "cell_type": "code",
   "execution_count": 1,
   "metadata": {},
   "outputs": [],
   "source": [
    "import pandas as pd\n",
    "\n",
    "def calculate_demographic_data(print_data=True):\n",
    "    # Read data from file\n",
    "    df = pd.read_csv(\"adult.data.csv\")\n",
    "\n",
    "    # How many of each race are represented in this dataset? This should be a Pandas series with race names as the index labels.\n",
    "    race_count = df[\"race\"].value_counts()\n",
    "\n",
    "    # What is the average age of men?\n",
    "    average_age_men = round(df.loc[df[\"sex\"] == \"Male\", \"age\"].mean(), 1)\n",
    "\n",
    "    # What is the percentage of people who have a Bachelor's degree?\n",
    "    percentage_bachelors = round(len(df[df[\"education\"] == \"Bachelors\"]) / len(df) * 100, 1)\n",
    "\n",
    "    # What percentage of people with advanced education (`Bachelors`, `Masters`, or `Doctorate`) make more than 50K?\n",
    "    higher_education = df[df[\"education\"].isin([\"Bachelors\", \"Masters\", \"Doctorate\"])]\n",
    "    lower_education = df[~df[\"education\"].isin([\"Bachelors\", \"Masters\", \"Doctorate\"])]\n",
    "    higher_education_rich = round(len(higher_education[higher_education[\"salary\"] == \">50K\"]) / len(higher_education) * 100, 1)\n",
    "    lower_education_rich = round(len(lower_education[lower_education[\"salary\"] == \">50K\"]) / len(lower_education) * 100, 1)\n",
    "\n",
    "    # What is the minimum number of hours a person works per week?\n",
    "    min_work_hours = df[\"hours-per-week\"].min()\n",
    "\n",
    "    # What percentage of the people who work the minimum number of hours per week have a salary of more than 50K?\n",
    "    num_min_workers = len(df[df[\"hours-per-week\"] == min_work_hours])\n",
    "    rich_percentage = round(len(df[(df[\"hours-per-week\"] == min_work_hours) & (df[\"salary\"] == \">50K\")]) / num_min_workers * 100, 1)\n",
    "\n",
    "    # What country has the highest percentage of people that earn >50K?\n",
    "    highest_earning_country = (df[df[\"salary\"] == \">50K\"][\"native-country\"].value_counts() / df[\"native-country\"].value_counts() * 100).fillna(0).sort_values(ascending=False).index[0]\n",
    "    highest_earning_country_percentage = round(len(df[(df[\"native-country\"] == highest_earning_country) & (df[\"salary\"] == \">50K\")]) / len(df[df[\"native-country\"] == highest_earning_country]) * 100, 1)\n",
    "\n",
    "    # Identify the most popular occupation for those who earn >50K in India.\n",
    "    top_IN_occupation = df[(df[\"native-country\"] == \"India\") & (df[\"salary\"] == \">50K\")][\"occupation\"].value_counts().index[0]\n",
    "\n",
    "    # Print results\n",
    "    if print_data:\n",
    "        print(\"Number of each race:\\n\", race_count)\n",
    "        print(\"Average age of men:\", average_age_men)\n",
    "        print(f\"Percentage with Bachelors degrees: {percentage_bachelors}%\")\n",
    "        print(f\"Percentage with higher education that earn >50K: {higher_education_rich}%\")\n",
    "       \n"
   ]
  }
 ],
 "metadata": {
  "kernelspec": {
   "display_name": "Python 3",
   "language": "python",
   "name": "python3"
  },
  "language_info": {
   "codemirror_mode": {
    "name": "ipython",
    "version": 3
   },
   "file_extension": ".py",
   "mimetype": "text/x-python",
   "name": "python",
   "nbconvert_exporter": "python",
   "pygments_lexer": "ipython3",
   "version": "3.11.2"
  },
  "orig_nbformat": 4
 },
 "nbformat": 4,
 "nbformat_minor": 2
}
